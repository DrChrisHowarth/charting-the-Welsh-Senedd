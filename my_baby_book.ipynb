{
 "cells": [
  {
   "cell_type": "markdown",
   "metadata": {},
   "source": [
    "# This Is All About Markdown Cells\n",
    "### The number of hashes denotes heading level. We're now at 3!\n",
    "###### Down to level 6\n",
    "\n",
    "Markdown cells help to organise a notebook. I'm starting to feel like a code warrior!\n",
    "\n",
    "**BOLD** and __strong__ ;\n",
    "*Italics* and _emphasis_\n",
    "\n",
    "`For all important code. Note the back tilt of the quote.`\n",
    "\n",
    "## This is now a heading LEVEL 2\n",
    "\n",
    "Linebreak:\n",
    "***\n",
    "* Bulletpoint heaven\n",
    "* It's like auto html\n",
    "    * Tab asterix\n",
    "    * Just drop a star\n",
    "\n",
    "\n",
    "1. Much more ordered\n",
    "2. We have a plan\n",
    "    1. Maybe even a career\n",
    "    2. It's been waiting all this time\n",
    "\n",
    "![localimage](infinity_mayer.webp)\n",
    "[html link](http://codecademy.com/)"
   ]
  },
  {
   "cell_type": "markdown",
   "metadata": {},
   "source": [
    "## Jupyter Shortcut Keys\n",
    "\n",
    "Available at `Help>Keyboard Shortcuts`\n",
    "\n",
    "`Esc` - Enter **Command** mode\n",
    "\n",
    "`Enter` or `Double Click` = Enter **Edit** mode\n",
    "\n",
    "`Ctrl` + `Enter` = Run Cell\n",
    "\n",
    "`Shift` + `Enter` = Run Cell , select cell Below\n",
    "\n",
    "`b` = new cell **b**elow\n",
    "\n",
    "`a` = new cell **a**bove"
   ]
  },
  {
   "cell_type": "markdown",
   "metadata": {},
   "source": [
    "### Inputting LaTeX code\n",
    "\n",
    "For mathematical formula formating. So many info strands coming together.\n",
    "The simplest fraction: $\\frac1n$\n",
    "\n",
    "Centred classification formula for consideration:\n",
    "\n",
    "$$ \\frac1N \\sum_{i=0}^n I(y_i = \\hat{y_i})$$\n",
    "\n",
    "Similar formats to formula's inserted into open documents ^ for powers, _ for subscripts for instance.\n",
    "\n",
    "$\\sin\\alpha$"
   ]
  },
  {
   "cell_type": "code",
   "execution_count": 2,
   "metadata": {},
   "outputs": [
    {
     "name": "stdout",
     "output_type": "stream",
     "text": [
      "Adam is 41 years old.\n"
     ]
    }
   ],
   "source": [
    "def test_function(age,name):\n",
    "    print(name + \" is \" + str(age) + \" years old.\")\n",
    "test_function(41,\"Adam\")"
   ]
  }
 ],
 "metadata": {
  "kernelspec": {
   "display_name": "Python 3",
   "language": "python",
   "name": "python3"
  },
  "language_info": {
   "codemirror_mode": {
    "name": "ipython",
    "version": 3
   },
   "file_extension": ".py",
   "mimetype": "text/x-python",
   "name": "python",
   "nbconvert_exporter": "python",
   "pygments_lexer": "ipython3",
   "version": "3.8.3"
  }
 },
 "nbformat": 4,
 "nbformat_minor": 4
}
